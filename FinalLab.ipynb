{
  "metadata": {
    "language_info": {
      "codemirror_mode": {
        "name": "python",
        "version": 3
      },
      "file_extension": ".py",
      "mimetype": "text/x-python",
      "name": "python",
      "nbconvert_exporter": "python",
      "pygments_lexer": "ipython3",
      "version": "3.8"
    },
    "kernelspec": {
      "name": "python",
      "display_name": "Pyolite",
      "language": "python"
    }
  },
  "nbformat_minor": 4,
  "nbformat": 4,
  "cells": [
    {
      "cell_type": "markdown",
      "source": "# My Assignment",
      "metadata": {}
    },
    {
      "cell_type": "markdown",
      "source": "*This is the final project of the Course \"Tools for Data Science\"*",
      "metadata": {}
    },
    {
      "cell_type": "markdown",
      "source": "Some Data Science Languages:\n- Python\n- R\n- SQL\n- Java\n- C/C++\n- Julia\n- Scala",
      "metadata": {}
    },
    {
      "cell_type": "markdown",
      "source": "Some Data Science Libraries:\n- Python:\n     - TensorFlow\n     - NumPy\n     - Pandas\n     - Keras\n     - SciKit-Learn\n     - Pytorch\n- C++:\n     - TensorFlow\n     - Caffe\n- Java:\n     - MLib\n     - RankLib\n     - Java-ML\n- R:\n     - Ddplyr\n     - Ggplot2\n     - Leaflet\n     - Plotly",
      "metadata": {}
    },
    {
      "cell_type": "markdown",
      "source": "Some Data Science Tools:\n- Apache Spark\n- IBM SPSS\n- Julia\n- Jupyter Notebook\n- MATLAB\n- SAS\n- IBM Watson Studio",
      "metadata": {}
    },
    {
      "cell_type": "markdown",
      "source": "*Now we are going to do easy arithmetics*\nFor example: 2+3, 5*6, 20-18, 65/5",
      "metadata": {}
    },
    {
      "cell_type": "code",
      "source": "a = 2+3\nb = 5*6\nc = 20-18\nd = 65/5\nprint(a,b,c,d)",
      "metadata": {
        "trusted": true
      },
      "execution_count": 3,
      "outputs": [
        {
          "name": "stdout",
          "text": "5 30 2 13.0\n",
          "output_type": "stream"
        }
      ]
    },
    {
      "cell_type": "markdown",
      "source": "*Now we will convert minutes to hour*\nYou can put any number of minutes, I will put 136 for example",
      "metadata": {}
    },
    {
      "cell_type": "code",
      "source": "x = 136\nhrs = x/60\nprint(x,\"minutes are \",hrs,\"hours\")",
      "metadata": {
        "trusted": true
      },
      "execution_count": 10,
      "outputs": [
        {
          "name": "stdout",
          "text": "136 minutes are  2.2666666666666666 hours\n",
          "output_type": "stream"
        }
      ]
    },
    {
      "cell_type": "markdown",
      "source": "### Objectives\n- Create a markdown cell with the title of the notebook. (1 pt)\n\n- Create a markdown cell for an introduction. (1 pt)\n\n- Create a markdown cell to list data science languages. (3 pts)\n\n- Create a markdown cell to list data science libraries. (3 pts)\n\n- Create a markdown cell with a table of Data Science tools. (3 pts)\n\n- Create a markdown cell introducing arithmetic expression examples. (1 pt)\n\n- Create a code cell to multiply and add numbers.(2 pts)\n\n- Create a code cell to convert minutes to hours. (2 pts)\n\n- Insert a markdown cell to list Objectives. (3 pts)\n\n- Create a markdown cell to indicate the Author’s name. (2 pts)\n\n- Share your notebook through GitHub (3 pts)\n\n- Take a screenshot of the first page of the notebook. (1 pt)",
      "metadata": {}
    },
    {
      "cell_type": "markdown",
      "source": "***Author: KaterynaKolesova***",
      "metadata": {}
    },
    {
      "cell_type": "code",
      "source": "",
      "metadata": {},
      "execution_count": null,
      "outputs": []
    }
  ]
}